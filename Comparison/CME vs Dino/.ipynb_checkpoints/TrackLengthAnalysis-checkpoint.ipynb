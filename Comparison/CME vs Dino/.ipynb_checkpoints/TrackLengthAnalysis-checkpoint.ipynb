{
 "cells": [
  {
   "cell_type": "code",
   "execution_count": 1,
   "id": "bf6399b5-9de4-4932-939a-e6a11ad151f4",
   "metadata": {},
   "outputs": [],
   "source": [
    "import pandas as pd\n",
    "import numpy as np\n",
    "import matplotlib.pyplot as plt\n",
    "from collections import defaultdict"
   ]
  },
  {
   "cell_type": "code",
   "execution_count": 2,
   "id": "f6b40a75-bd7a-4912-9e66-4da01b6b9f60",
   "metadata": {},
   "outputs": [],
   "source": [
    "Comparison = pd.read_csv(\"Output Data/Comparison.csv\")"
   ]
  },
  {
   "cell_type": "code",
   "execution_count": 3,
   "id": "2b85aa67-f14b-4ccf-8dfa-802df097c919",
   "metadata": {},
   "outputs": [],
   "source": [
    "Comparison = Comparison[Comparison[\"Distance\"]<3.5]"
   ]
  },
  {
   "cell_type": "code",
   "execution_count": 4,
   "id": "031e2e3b-3235-4832-b7b2-be7e4eed8bf8",
   "metadata": {},
   "outputs": [],
   "source": [
    "#a = Comparison[Comparison[\"Track Length (CME)\"]==Comparison[\"Track Length (Dino)\"] and Comparison[\"ID (CME)\"]]\n",
    "d = Comparison[\"ID (CME)\"].unique()\n"
   ]
  },
  {
   "cell_type": "code",
   "execution_count": 5,
   "id": "78b4cec6-219d-4ecd-b507-61e0547eb896",
   "metadata": {},
   "outputs": [],
   "source": [
    "M_comp = Comparison.to_numpy()\n",
    "ID_vec = defaultdict(list)\n",
    "\n",
    "for ID in M_comp:\n",
    "    ID_vec[ID[0]].append(ID)\n",
    "\n",
    "for ID_val in ID_vec:\n",
    "    ID_vec[ID_val] = np.array(ID_vec[ID_val]) \n",
    "\n",
    "ID_list = np.zeros((len(ID_vec),5), dtype=object)"
   ]
  },
  {
   "cell_type": "code",
   "execution_count": 6,
   "id": "5ca3f878-ab6e-4e11-a626-876c3b997c2f",
   "metadata": {},
   "outputs": [],
   "source": [
    "for i, ID in enumerate(ID_vec):\n",
    "    ID_val = ID_vec[ID]\n",
    "    CME_ID = np.unique(ID_val[:,0])\n",
    "    Dino_IDs = np.unique(ID_val[:,1])\n",
    "    TL_CME = np.unique(ID_val[:,13])\n",
    "    TL_Dino = np.unique(ID_val[:,14])\n",
    "\n",
    "    ID_list[i][0] = CME_ID\n",
    "    ID_list[i][1] = Dino_IDs\n",
    "    ID_list[i][2] = TL_CME\n",
    "    ID_list[i][3] = TL_Dino\n",
    "    \n",
    "    if len(Dino_IDs) == 1 and TL_CME == TL_Dino:\n",
    "        ID_list[i][4] = True\n",
    "    else:\n",
    "        ID_list[i][4] = False"
   ]
  },
  {
   "cell_type": "code",
   "execution_count": 7,
   "id": "9e3dcd60-1a64-4e50-a84c-90641a77963c",
   "metadata": {},
   "outputs": [
    {
     "data": {
      "text/html": [
       "<div>\n",
       "<style scoped>\n",
       "    .dataframe tbody tr th:only-of-type {\n",
       "        vertical-align: middle;\n",
       "    }\n",
       "\n",
       "    .dataframe tbody tr th {\n",
       "        vertical-align: top;\n",
       "    }\n",
       "\n",
       "    .dataframe thead th {\n",
       "        text-align: right;\n",
       "    }\n",
       "</style>\n",
       "<table border=\"1\" class=\"dataframe\">\n",
       "  <thead>\n",
       "    <tr style=\"text-align: right;\">\n",
       "      <th></th>\n",
       "      <th>ID (CME)</th>\n",
       "      <th>ID (Dino)</th>\n",
       "      <th>Track Length (CME)</th>\n",
       "      <th>Track Length (Dino)</th>\n",
       "      <th>True Match</th>\n",
       "    </tr>\n",
       "  </thead>\n",
       "  <tbody>\n",
       "    <tr>\n",
       "      <th>0</th>\n",
       "      <td>[1.0]</td>\n",
       "      <td>[360.0, 28476.0]</td>\n",
       "      <td>[99.0]</td>\n",
       "      <td>[29.0, 71.0]</td>\n",
       "      <td>False</td>\n",
       "    </tr>\n",
       "    <tr>\n",
       "      <th>1</th>\n",
       "      <td>[2.0]</td>\n",
       "      <td>[384.0, 14748.0, 35419.0, 35868.0]</td>\n",
       "      <td>[99.0]</td>\n",
       "      <td>[3.0, 5.0, 8.0, 90.0]</td>\n",
       "      <td>False</td>\n",
       "    </tr>\n",
       "    <tr>\n",
       "      <th>2</th>\n",
       "      <td>[3.0]</td>\n",
       "      <td>[395.0, 22517.0, 22998.0, 24067.0, 24633.0, 24...</td>\n",
       "      <td>[99.0]</td>\n",
       "      <td>[3.0, 9.0, 17.0, 34.0, 61.0]</td>\n",
       "      <td>False</td>\n",
       "    </tr>\n",
       "    <tr>\n",
       "      <th>3</th>\n",
       "      <td>[4.0]</td>\n",
       "      <td>[433.0, 6114.0, 31440.0]</td>\n",
       "      <td>[99.0]</td>\n",
       "      <td>[3.0, 21.0, 82.0]</td>\n",
       "      <td>False</td>\n",
       "    </tr>\n",
       "    <tr>\n",
       "      <th>4</th>\n",
       "      <td>[5.0]</td>\n",
       "      <td>[459.0, 24091.0, 25908.0, 35629.0]</td>\n",
       "      <td>[99.0]</td>\n",
       "      <td>[3.0, 8.0, 21.0, 67.0]</td>\n",
       "      <td>False</td>\n",
       "    </tr>\n",
       "    <tr>\n",
       "      <th>...</th>\n",
       "      <td>...</td>\n",
       "      <td>...</td>\n",
       "      <td>...</td>\n",
       "      <td>...</td>\n",
       "      <td>...</td>\n",
       "    </tr>\n",
       "    <tr>\n",
       "      <th>4101</th>\n",
       "      <td>[6287.0]</td>\n",
       "      <td>[36181.0]</td>\n",
       "      <td>[2.0]</td>\n",
       "      <td>[3.0]</td>\n",
       "      <td>False</td>\n",
       "    </tr>\n",
       "    <tr>\n",
       "      <th>4102</th>\n",
       "      <td>[6294.0]</td>\n",
       "      <td>[20567.0]</td>\n",
       "      <td>[2.0]</td>\n",
       "      <td>[37.0]</td>\n",
       "      <td>False</td>\n",
       "    </tr>\n",
       "    <tr>\n",
       "      <th>4103</th>\n",
       "      <td>[6295.0]</td>\n",
       "      <td>[23811.0]</td>\n",
       "      <td>[2.0]</td>\n",
       "      <td>[27.0]</td>\n",
       "      <td>False</td>\n",
       "    </tr>\n",
       "    <tr>\n",
       "      <th>4104</th>\n",
       "      <td>[6296.0]</td>\n",
       "      <td>[35968.0]</td>\n",
       "      <td>[2.0]</td>\n",
       "      <td>[4.0]</td>\n",
       "      <td>False</td>\n",
       "    </tr>\n",
       "    <tr>\n",
       "      <th>4105</th>\n",
       "      <td>[6297.0]</td>\n",
       "      <td>[37430.0]</td>\n",
       "      <td>[2.0]</td>\n",
       "      <td>[1.0]</td>\n",
       "      <td>False</td>\n",
       "    </tr>\n",
       "  </tbody>\n",
       "</table>\n",
       "<p>4106 rows × 5 columns</p>\n",
       "</div>"
      ],
      "text/plain": [
       "      ID (CME)                                          ID (Dino)  \\\n",
       "0        [1.0]                                   [360.0, 28476.0]   \n",
       "1        [2.0]                 [384.0, 14748.0, 35419.0, 35868.0]   \n",
       "2        [3.0]  [395.0, 22517.0, 22998.0, 24067.0, 24633.0, 24...   \n",
       "3        [4.0]                           [433.0, 6114.0, 31440.0]   \n",
       "4        [5.0]                 [459.0, 24091.0, 25908.0, 35629.0]   \n",
       "...        ...                                                ...   \n",
       "4101  [6287.0]                                          [36181.0]   \n",
       "4102  [6294.0]                                          [20567.0]   \n",
       "4103  [6295.0]                                          [23811.0]   \n",
       "4104  [6296.0]                                          [35968.0]   \n",
       "4105  [6297.0]                                          [37430.0]   \n",
       "\n",
       "     Track Length (CME)           Track Length (Dino) True Match  \n",
       "0                [99.0]                  [29.0, 71.0]      False  \n",
       "1                [99.0]         [3.0, 5.0, 8.0, 90.0]      False  \n",
       "2                [99.0]  [3.0, 9.0, 17.0, 34.0, 61.0]      False  \n",
       "3                [99.0]             [3.0, 21.0, 82.0]      False  \n",
       "4                [99.0]        [3.0, 8.0, 21.0, 67.0]      False  \n",
       "...                 ...                           ...        ...  \n",
       "4101              [2.0]                         [3.0]      False  \n",
       "4102              [2.0]                        [37.0]      False  \n",
       "4103              [2.0]                        [27.0]      False  \n",
       "4104              [2.0]                         [4.0]      False  \n",
       "4105              [2.0]                         [1.0]      False  \n",
       "\n",
       "[4106 rows x 5 columns]"
      ]
     },
     "execution_count": 7,
     "metadata": {},
     "output_type": "execute_result"
    }
   ],
   "source": [
    "Sum = pd.DataFrame(ID_list, columns = [\"ID (CME)\",\"ID (Dino)\", \"Track Length (CME)\", \"Track Length (Dino)\", \"True Match\"])\n",
    "Sum"
   ]
  },
  {
   "cell_type": "code",
   "execution_count": 8,
   "id": "5b1b1ba5-4c41-4ead-b579-4a7a357a2eff",
   "metadata": {},
   "outputs": [],
   "source": [
    "track_lengths = np.array([row[2][0] for row in ID_list])\n",
    "mask_true = np.array([row[4] for row in ID_list])\n",
    "bins = np.arange(0, 110, 10)\n",
    "\n",
    "counts, _ = np.histogram(track_lengths, bins)\n",
    "\n",
    "counts_true, _ = np.histogram(track_lengths[mask_true], bins)\n",
    "\n",
    "labels = np.array((\"0-9\",\"10-19\",\"20-29\",\"30-39\",\"40-49\",\"50-59\",\"60-69\",\"70-79\",\"80-89\",\"90-99\"))"
   ]
  },
  {
   "cell_type": "code",
   "execution_count": 9,
   "id": "676d94bb-7036-4545-b5d0-7ca3e8a72509",
   "metadata": {},
   "outputs": [
    {
     "data": {
      "image/png": "[encoded data removed]",
      "text/plain": [
       "<Figure size 640x480 with 1 Axes>"
      ]
     },
     "metadata": {},
     "output_type": "display_data"
    }
   ],
   "source": [
    "plt.bar(labels,100*counts_true/counts)\n",
    "plt.xlabel(\"Track Length\")\n",
    "plt.ylabel(\"CME vs Dino Match (%)\")\n",
    "plt.show()"
   ]
  },
  {
   "cell_type": "code",
   "execution_count": 10,
   "id": "2c4006b3-d3ff-447f-8aac-dbe64f5f12d9",
   "metadata": {},
   "outputs": [
    {
     "data": {
      "image/png": "[encoded data removed]",
      "text/plain": [
       "<Figure size 640x480 with 1 Axes>"
      ]
     },
     "metadata": {},
     "output_type": "display_data"
    }
   ],
   "source": [
    "selected = ID_list[ID_list[:, 4] == False]\n",
    "breaks = np.array([len(x) for x in selected[:,1]])-1\n",
    "plt.scatter(selected[:,2],breaks, s = 0.5)\n",
    "plt.show()\n",
    "\n"
   ]
  }
 ],
 "metadata": {
  "kernelspec": {
   "display_name": "Python 3 (ipykernel)",
   "language": "python",
   "name": "python3"
  },
  "language_info": {
   "codemirror_mode": {
    "name": "ipython",
    "version": 3
   },
   "file_extension": ".py",
   "mimetype": "text/x-python",
   "name": "python",
   "nbconvert_exporter": "python",
   "pygments_lexer": "ipython3",
   "version": "3.10.9"
  }
 },
 "nbformat": 4,
 "nbformat_minor": 5
}
