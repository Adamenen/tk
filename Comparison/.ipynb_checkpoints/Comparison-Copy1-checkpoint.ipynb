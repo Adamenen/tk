{
 "cells": [
  {
   "cell_type": "code",
   "execution_count": 1,
   "id": "76cf6f24-3ff1-4659-b000-4676d9314bc0",
   "metadata": {},
   "outputs": [],
   "source": [
    "import csv\n",
    "import pandas as pd\n",
    "import numpy as np\n",
    "from collections import defaultdict"
   ]
  },
  {
   "cell_type": "code",
   "execution_count": 2,
   "id": "6090c4d4-74ba-4fde-b259-0a122ed3caa3",
   "metadata": {},
   "outputs": [],
   "source": [
    "df_CME = pd.read_csv(\"ap2_track.csv\", header = None)\n",
    "M_CME = df_CME.to_numpy()\n",
    "M_CME[:, 2] += M_CME[:, 1]-1\n",
    "M_CME[:, 5] = 168 - M_CME[:, 5]\n",
    "\n",
    "df_Dino = pd.read_csv(\"june23_ap2_raw.csv\")\n",
    "M_Dino = df_Dino.to_numpy()\n",
    "M_Dino[:, 1:3] += 1\n",
    "\n",
    "comp_list = np.zeros((len(M_CME),17))"
   ]
  },
  {
   "cell_type": "code",
   "execution_count": 3,
   "id": "dcbc4177-b50f-40eb-b46e-a262260d5aeb",
   "metadata": {},
   "outputs": [],
   "source": [
    "t_vec = defaultdict(list)\n",
    "threshold = 5\n",
    "multi_match_list = []\n",
    "for vec_Dino in M_Dino:\n",
    "    t_vec[vec_Dino[2]].append(vec_Dino)\n",
    "\n",
    "for t_val in t_vec:\n",
    "    t_vec[t_val] = np.array(t_vec[t_val])\n",
    "\n",
    "for i, vec_CME in enumerate(M_CME):\n",
    "    t_val = vec_CME[2]\n",
    "    dino_group = t_vec[t_val]\n",
    "    diffs = dino_group[:, 3:6] - vec_CME[3:6]\n",
    "    dists = np.linalg.norm(diffs, axis=1)\n",
    "    min_idx = np.argmin(dists)\n",
    "    min_dist = dists[min_idx]\n",
    "    best_vec_Dino = dino_group[min_idx]\n",
    "    comp_list[i, 0:8] = vec_CME\n",
    "    comp_list[i, 8:16] = best_vec_Dino\n",
    "    comp_list[i, 16] = min_dist\n",
    "\n",
    "    # New list by threshold\n",
    "    below = np.where(dists < threshold)[0]\n",
    "    if len(below) > 0:\n",
    "        dino_ids = \",\".join(str(int(x)) for x in dino_group[below, 0])\n",
    "        dists_str = \",\".join(f\"{dists[j]:.2f}\" for j in below)\n",
    "    else:\n",
    "        dino_ids = \"\"\n",
    "        dists_str = \"\"\n",
    "    multi_match_list.append([int(vec_CME[0]), dino_ids, dists_str, t_val])\n",
    "\n",
    "multi_match_array = np.array(multi_match_list, dtype=object)"
   ]
  },
  {
   "cell_type": "code",
   "execution_count": 4,
   "id": "bbef9aef-39e6-49aa-9bf0-4b6a85a5db59",
   "metadata": {},
   "outputs": [],
   "source": [
    "df_comp = pd.DataFrame(comp_list, columns = [\"ID (CME)\",\"t_start (CME)\", \"t\", \"x (CME)\", \"y (CME)\", \n",
    "                                             \"z (CME)\", \"FI (CME)\", \"Track Length (CME)\", \"ID (Dino)\", \n",
    "                                             \"t_start (Dino)\", \"t_ig\", \"x (Dino)\", \"y (Dino)\", \"z (Dino)\", \n",
    "                                             \"FI (Dino)\", \"Track Length (Dino)\", \"Distance\"])\n",
    "\n",
    "df_comp = df_comp.drop(\"t_ig\", axis=1)\n",
    "df_comp = df_comp[[\"ID (CME)\",\"ID (Dino)\", \"x (CME)\", \"y (CME)\", \n",
    "                   \"z (CME)\", \"x (Dino)\", \"y (Dino)\", \"z (Dino)\", \n",
    "                   \"t\", \"t_start (CME)\", \"t_start (Dino)\",\"FI (CME)\", \n",
    "                   \"FI (Dino)\",\"Track Length (CME)\", \"Track Length (Dino)\", \"Distance\"]] \n",
    "df_sorted = df_comp.sort_values(by=[\"ID (CME)\",\"t\"], ascending=[True, True])"
   ]
  },
  {
   "cell_type": "code",
   "execution_count": 5,
   "id": "f8250138-96c0-4cb0-8c08-5793d5281d3e",
   "metadata": {},
   "outputs": [],
   "source": [
    "df_sorted.to_csv(\"Comparison.csv\", index=False)"
   ]
  },
  {
   "cell_type": "code",
   "execution_count": 6,
   "id": "df53dff4-5365-43e9-aa04-7f3750791377",
   "metadata": {},
   "outputs": [],
   "source": [
    "df = df_sorted[df_sorted[\"ID (Dino)\"] == 1262]\n",
    "df = df_sorted[df_sorted[\"ID (CME)\"] == 425]"
   ]
  },
  {
   "cell_type": "code",
   "execution_count": null,
   "id": "342bd0c0-4ac1-4341-aa94-f10db1585663",
   "metadata": {},
   "outputs": [],
   "source": []
  },
  {
   "cell_type": "code",
   "execution_count": 7,
   "id": "84ef42b5-0e20-48f6-a3b1-23332b87e4db",
   "metadata": {},
   "outputs": [],
   "source": [
    "a = pd.DataFrame(multi_match_array)\n",
    "a.to_csv(\"t.csv\")"
   ]
  }
 ],
 "metadata": {
  "kernelspec": {
   "display_name": "Python 3 (ipykernel)",
   "language": "python",
   "name": "python3"
  },
  "language_info": {
   "codemirror_mode": {
    "name": "ipython",
    "version": 3
   },
   "file_extension": ".py",
   "mimetype": "text/x-python",
   "name": "python",
   "nbconvert_exporter": "python",
   "pygments_lexer": "ipython3",
   "version": "3.13.5"
  }
 },
 "nbformat": 4,
 "nbformat_minor": 5
}
